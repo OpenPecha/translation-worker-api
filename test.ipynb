{
 "cells": [
  {
   "cell_type": "code",
   "execution_count": 16,
   "metadata": {},
   "outputs": [],
   "source": [
    "from typing import TypedDict, List\n",
    "from pydantic import BaseModel, Field\n",
    "from langchain_anthropic import ChatAnthropic\n",
    "\n",
    "llm = ChatAnthropic(model=\"claude-3-5-sonnet-20240620\", temperature=0)\n",
    "\n",
    "class Translation(BaseModel):\n",
    "    translation: List[str] = Field(description=\"List of translations of the sourcetext\")\n",
    "\n",
    "def translate_text(data):\n",
    "    output = llm.with_structured_output(Translation).invoke(prompt.format(language=data['language'], source_text=data['source_text']))\n",
    "    return output\n",
    "\n",
    "prompt = \"\"\"You are an expert translator with deep knowledge of Tibetan Buddhist texts and terminology. Your task is to provide a faithful and scholarly translation of a source text into {language}.\n",
    "\n",
    "\n",
    "**Source Text (Tibetan):**\n",
    "{source_text}\n",
    "\n",
    "**Translation Instructions:**\n",
    "1.  **Literal and Scholarly:** Provide a translation that is as literal as possible while still being clear and readable in {language}. This is for a scholarly audience.\n",
    "2.  **Preserve Nuances:** Maintain the specific theological and philosophical nuances of the original text.\n",
    "3.  **Terminology:** Use established academic or traditional conventions for translating key Buddhist terms.\n",
    "4.  **Order:** The translation must follow the original order of the Tibetan text segment by segment.\n",
    "5.  **Output Format:** Return only the translated text. Do not add any extra explanations, greetings, or apologies.\n",
    "\n",
    "Translate the source text into {language} now.\"\"\""
   ]
  },
  {
   "cell_type": "code",
   "execution_count": 19,
   "metadata": {},
   "outputs": [],
   "source": [
    "\n",
    "\n",
    "data = {\n",
    "    \"language\": \"Hindi\",\n",
    "    \"source_text\":[\"དེ་རིང་ཕྱི་ལོ་ ༢༠༢༥ ཟླ་ ༦ ཚེས་ ༡༨ དེ། ༸རྒྱལ་བའི་སྐུའི་བླ་གཟའ་དང་བསྟུན། བོད་མིའི་སྒྲིག་འཛུགས་ཀྱི་སྲིད་སྐྱོང་སྤེན་པ་ཚེ་རིང་མཆོག་དབུ་བཞུགས་ཐོག ,གྱི་ནང་དོན་ཐོག་ནས་ཏན་ཏན་གནས་ཚུལ་མང་པོ་ཞིག་གསལ་པོ་ཆགས་ཡོང་གི་རེད་བསམ་གྱི་ཡོད་ཅེས་གསུངས་སོང་།\"]\n",
    "}\n",
    "\n"
   ]
  },
  {
   "cell_type": "code",
   "execution_count": 21,
   "metadata": {},
   "outputs": [
    {
     "name": "stdout",
     "output_type": "stream",
     "text": [
      "translation=['आज 18 जून, 2025 को, दलाई लामा के शरीर के ग्रह के अनुसार, तिब्बती प्रशासन के सिक्योंग (राजनीतिक नेता) पेनपा छेरिंग जी की अध्यक्षता में, आंतरिक मामलों के संदर्भ में निश्चित रूप से कई मुद्दे स्पष्ट हो जाएंगे, ऐसा उन्होंने कहा।']\n",
      "True\n"
     ]
    }
   ],
   "source": [
    "output = translate_text(data)\n",
    "\n",
    "print(output)\n",
    "print(len(data['source_text'])==len(output.translation)) \n",
    "\n",
    "\n",
    "\n",
    "\n",
    "\n",
    "\n",
    "\n",
    "\n"
   ]
  }
 ],
 "metadata": {
  "kernelspec": {
   "display_name": ".venv",
   "language": "python",
   "name": "python3"
  },
  "language_info": {
   "codemirror_mode": {
    "name": "ipython",
    "version": 3
   },
   "file_extension": ".py",
   "mimetype": "text/x-python",
   "name": "python",
   "nbconvert_exporter": "python",
   "pygments_lexer": "ipython3",
   "version": "3.12.0"
  }
 },
 "nbformat": 4,
 "nbformat_minor": 2
}
